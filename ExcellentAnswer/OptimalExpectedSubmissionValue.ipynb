{
 "cells": [
  {
   "cell_type": "markdown",
   "metadata": {},
   "source": [
    "One way to approach the competition is to look for a solution structure that has a good chance to yield good submission.  A solution structure is defined by a number of bag types, plus a number of occurrence of each bag type.  A bag type is defined by the number of gifts of each type it contains. For instance 3 blocks and 1 train.\n",
    "\n",
    "We can focus on bag types because all bags have the same capacity (50 pounds).\n",
    "\n",
    "There is a finite number of bag types that are possible.  We define one random variables for each bag type. \n",
    "\n",
    "All we need is an estimate the expected value and the variance of each possible bag type.  Then we use two properties to find a combination of bags that maximizes a combination of expected value and standard deviation:\n",
    "\n",
    "- the expected value of a sum of random variables is the sum of the expected values of the random variables\n",
    "- the variance of a sum of independent random variables is the sum of the variances of the random variable\n",
    "\n",
    "Kernels or scripts with similar approaches have been proposed by [Dominic Breuker](https://www.kaggle.com/breuker/santas-uncertain-bags/can-we-improve-by-increasing-variance) and [Ben Gorman](https://www.kaggle.com/ben519/santas-uncertain-bags/merry-christmas-y-all).\n",
    "\n",
    "The difference is that here we find the optimal solution in a probabilistic sense."
   ]
  },
  {
   "cell_type": "code",
   "execution_count": 1,
   "metadata": {
    "collapsed": false
   },
   "outputs": [],
   "source": [
    "# This Python 3 environment comes with many helpful analytics libraries installed\n",
    "# It is defined by the kaggle/python docker image: https://github.com/kaggle/docker-python\n",
    "# For example, here's several helpful packages to load in \n",
    "\n",
    "import numpy as np # linear algebra\n",
    "import pandas as pd # data processing, CSV file I/O (e.g. pd.read_csv)\n",
    "\n",
    "# Input data files are available in the \"../input/\" directory.\n",
    "# For example, running this (by clicking run or pressing Shift+Enter) will list the files in the input directory\n",
    "\n",
    "# Any results you write to the current directory are saved as output."
   ]
  },
  {
   "cell_type": "markdown",
   "metadata": {},
   "source": [
    "First some definitions."
   ]
  },
  {
   "cell_type": "code",
   "execution_count": 2,
   "metadata": {
    "collapsed": true
   },
   "outputs": [],
   "source": [
    "gift_types = ['horse', 'ball', 'bike', 'train', 'coal', 'book', 'doll', 'blocks', 'gloves']\n",
    "ngift_types = len(gift_types)\n",
    "\n",
    "horse, ball, bike, train, coal, book, doll, blocks, gloves = range(ngift_types)"
   ]
  },
  {
   "cell_type": "markdown",
   "metadata": {},
   "source": [
    "We will use Monte Carlo simulation quite a bit. Let's agree on the number of samples to use.  Set it to a higher value to get more accurate results."
   ]
  },
  {
   "cell_type": "code",
   "execution_count": 3,
   "metadata": {
    "collapsed": true
   },
   "outputs": [],
   "source": [
    "nsample=10000"
   ]
  },
  {
   "cell_type": "markdown",
   "metadata": {},
   "source": [
    "Let's look at bags composed of a single gift type. We use a vectorized version of the original numpy distributions."
   ]
  },
  {
   "cell_type": "code",
   "execution_count": 4,
   "metadata": {
    "collapsed": true
   },
   "outputs": [],
   "source": [
    "def gift_weights(gift, ngift, n=nsample):\n",
    "    if ngift == 0:\n",
    "        return np.array([0.0])\n",
    "    np.random.seed(2016)\n",
    "    if gift == horse:\n",
    "        dist = np.maximum(0, np.random.normal(5,2,(n, ngift))).sum(axis=1)\n",
    "    if gift == ball:\n",
    "        dist = np.maximum(0, 1 + np.random.normal(1,0.3,(n, ngift))).sum(axis=1)\n",
    "    if gift == bike:\n",
    "        dist = np.maximum(0, np.random.normal(20,10,(n, ngift))).sum(axis=1)\n",
    "    if gift == train:\n",
    "        dist = np.maximum(0, np.random.normal(10,5,(n, ngift))).sum(axis=1)\n",
    "    if gift == coal:\n",
    "        dist = 47 * np.random.beta(0.5,0.5,(n, ngift)).sum(axis=1)\n",
    "    if gift == book:\n",
    "        dist = np.random.chisquare(2,(n, ngift)).sum(axis=1)\n",
    "    if gift == doll:\n",
    "        dist = np.random.gamma(5,1,(n, ngift)).sum(axis=1)\n",
    "    if gift == blocks:\n",
    "        dist = np.random.triangular(5,10,20,(n, ngift)).sum(axis=1)\n",
    "    if gift == gloves:\n",
    "        gloves1 = 3.0 + np.random.rand(n, ngift)\n",
    "        gloves2 = np.random.rand(n, ngift)\n",
    "        gloves3 = np.random.rand(n, ngift)\n",
    "        dist = np.where(gloves2 < 0.3, gloves1, gloves3).sum(axis=1)\n",
    "    return dist"
   ]
  },
  {
   "cell_type": "markdown",
   "metadata": {},
   "source": [
    "Let's find a reasonable upper bound on the number of gifts in the bag. For this we compute the expected score for bags with an increasing number of toys until the score decreases. The bag with largest score is determining the maximum value. This is fine when optimizing the expected value, as adding additional toys uses more toys without improving the objective function."
   ]
  },
  {
   "cell_type": "code",
   "execution_count": 5,
   "metadata": {
    "collapsed": false
   },
   "outputs": [
    {
     "data": {
      "text/plain": [
       "array([ 9, 24,  3,  5,  2, 20,  9,  4, 29])"
      ]
     },
     "execution_count": 5,
     "metadata": {},
     "output_type": "execute_result"
    }
   ],
   "source": [
    "epsilon = 1\n",
    "max_type = np.zeros(ngift_types).astype('int')\n",
    "\n",
    "for gift, gift_type in enumerate(gift_types):\n",
    "    best_value = 0.0\n",
    "    for j in range(1, 200):\n",
    "        weights = gift_weights(gift, j, nsample)\n",
    "        raw_value = np.where(weights <= 50.0, weights, 0.0)\n",
    "        value = raw_value.mean()\n",
    "        if value > best_value:\n",
    "            best_value = value\n",
    "        else:\n",
    "            break\n",
    "    max_type[gift] = j\n",
    "max_type"
   ]
  },
  {
   "cell_type": "markdown",
   "metadata": {},
   "source": [
    "We can now look at more general bag types. First we precompute weights of bags with a single type. The code is similar to the above one.\n",
    "\n",
    "For each gift type , we create a 2D array with nsample rows, and ntype columns. Column j contains the weights of a bag made of j+1 toys of the given gift type."
   ]
  },
  {
   "cell_type": "code",
   "execution_count": 6,
   "metadata": {
    "collapsed": true
   },
   "outputs": [],
   "source": [
    "def gift_distributions(gift, ngift, n=nsample):\n",
    "    if ngift == 0:\n",
    "        return np.array([0.0])\n",
    "    np.random.seed(2016)\n",
    "    if gift == horse:\n",
    "        dist = np.maximum(0, np.random.normal(5,2,(n, ngift)))\n",
    "    if gift == ball:\n",
    "        dist = np.maximum(0, 1 + np.random.normal(1,0.3,(n, ngift)))\n",
    "    if gift == bike:\n",
    "        dist = np.maximum(0, np.random.normal(20,10,(n, ngift)))\n",
    "    if gift == train:\n",
    "        dist = np.maximum(0, np.random.normal(10,5,(n, ngift)))\n",
    "    if gift == coal:\n",
    "        dist = 47 * np.random.beta(0.5,0.5,(n, ngift))\n",
    "    if gift == book:\n",
    "        dist = np.random.chisquare(2,(n, ngift))\n",
    "    if gift == doll:\n",
    "        dist = np.random.gamma(5,1,(n, ngift))\n",
    "    if gift == blocks:\n",
    "        dist = np.random.triangular(5,10,20,(n, ngift))\n",
    "    if gift == gloves:\n",
    "        gloves1 = 3.0 + np.random.rand(n, ngift)\n",
    "        gloves2 = np.random.rand(n, ngift)\n",
    "        gloves3 = np.random.rand(n, ngift)\n",
    "        dist = np.where(gloves2 < 0.3, gloves1, gloves3)\n",
    "    for j in range(1, ngift):\n",
    "        dist[:,j] += dist[:,j-1]\n",
    "    return dist\n",
    "\n",
    "distributions = dict()\n",
    "    \n",
    "for gift in range(ngift_types):\n",
    "    distributions[gift] = gift_distributions(gift, max_type[gift])"
   ]
  },
  {
   "cell_type": "markdown",
   "metadata": {},
   "source": [
    "We can now compute expected value of complex bags with lookups of precomputed weight distributions. With a slight change it code it is easy to compute additional statistics like the variance of the weight."
   ]
  },
  {
   "cell_type": "code",
   "execution_count": 7,
   "metadata": {
    "collapsed": true
   },
   "outputs": [],
   "source": [
    "def gift_distributions(gift, ngift):\n",
    "    if ngift <= 0:\n",
    "        return 0\n",
    "    if ngift >= max_type[gift]:\n",
    "        return 51\n",
    "    return distributions[gift][:,ngift-1]\n",
    "\n",
    "def gift_value(ntypes):\n",
    "    weights = np.zeros(nsample)\n",
    "    for gift in range(ngift_types):\n",
    "        dist = gift_distributions(gift, ntypes[gift])\n",
    "        weights += dist\n",
    "    weights = np.where(weights <= 50.0, weights, 0.0)\n",
    "    return weights.mean(), weights.std()"
   ]
  },
  {
   "cell_type": "markdown",
   "metadata": {},
   "source": [
    "We can now generate bag types. The idea is to start with an empty bag, and to add one item at a time. We do it until the expected value of the bag decreases. When this happens then we can discard the newly created bag, as it uses more items and yields a lower expected value.\n",
    "We use a queue and some dictionaries to keep track of what bag types are relevant.\n",
    "\n",
    "Once the relevant bags are found we put all of them in a dataframe.  We remove those with less than three elements.\n",
    "\n",
    "This takes a time roughly proportional to nsample.  With 10,000 is takes less than a minute.   Go grab a coffee if you set nsample to a larger value, say 100,000."
   ]
  },
  {
   "cell_type": "code",
   "execution_count": 8,
   "metadata": {
    "collapsed": false
   },
   "outputs": [
    {
     "name": "stdout",
     "output_type": "stream",
     "text": [
      "0 1000 2000 3000 4000 5000 6000 7000 8000 9000 10000 11000 12000 13000 14000 15000 16000 17000 18000 19000 20000 21000 22000 23000 24000 25000 26000 27000 28000 29000 30000 31000 32000 33000 34000 35000 36000 37000 38000 39000 40000 "
     ]
    },
    {
     "data": {
      "text/html": [
       "<div>\n",
       "<table border=\"1\" class=\"dataframe\">\n",
       "  <thead>\n",
       "    <tr style=\"text-align: right;\">\n",
       "      <th></th>\n",
       "      <th>horse</th>\n",
       "      <th>ball</th>\n",
       "      <th>bike</th>\n",
       "      <th>train</th>\n",
       "      <th>coal</th>\n",
       "      <th>book</th>\n",
       "      <th>doll</th>\n",
       "      <th>blocks</th>\n",
       "      <th>gloves</th>\n",
       "      <th>mean</th>\n",
       "      <th>std</th>\n",
       "      <th>var</th>\n",
       "    </tr>\n",
       "  </thead>\n",
       "  <tbody>\n",
       "    <tr>\n",
       "      <th>0</th>\n",
       "      <td>3</td>\n",
       "      <td>0</td>\n",
       "      <td>0</td>\n",
       "      <td>0</td>\n",
       "      <td>0</td>\n",
       "      <td>0</td>\n",
       "      <td>0</td>\n",
       "      <td>0</td>\n",
       "      <td>0</td>\n",
       "      <td>15.046766</td>\n",
       "      <td>3.415452</td>\n",
       "      <td>11.665312</td>\n",
       "    </tr>\n",
       "    <tr>\n",
       "      <th>1</th>\n",
       "      <td>2</td>\n",
       "      <td>1</td>\n",
       "      <td>0</td>\n",
       "      <td>0</td>\n",
       "      <td>0</td>\n",
       "      <td>0</td>\n",
       "      <td>0</td>\n",
       "      <td>0</td>\n",
       "      <td>0</td>\n",
       "      <td>12.018329</td>\n",
       "      <td>2.814923</td>\n",
       "      <td>7.923792</td>\n",
       "    </tr>\n",
       "    <tr>\n",
       "      <th>2</th>\n",
       "      <td>2</td>\n",
       "      <td>0</td>\n",
       "      <td>1</td>\n",
       "      <td>0</td>\n",
       "      <td>0</td>\n",
       "      <td>0</td>\n",
       "      <td>0</td>\n",
       "      <td>0</td>\n",
       "      <td>0</td>\n",
       "      <td>28.644716</td>\n",
       "      <td>10.535615</td>\n",
       "      <td>110.999175</td>\n",
       "    </tr>\n",
       "    <tr>\n",
       "      <th>3</th>\n",
       "      <td>2</td>\n",
       "      <td>0</td>\n",
       "      <td>0</td>\n",
       "      <td>1</td>\n",
       "      <td>0</td>\n",
       "      <td>0</td>\n",
       "      <td>0</td>\n",
       "      <td>0</td>\n",
       "      <td>0</td>\n",
       "      <td>20.044023</td>\n",
       "      <td>5.603383</td>\n",
       "      <td>31.397905</td>\n",
       "    </tr>\n",
       "    <tr>\n",
       "      <th>4</th>\n",
       "      <td>2</td>\n",
       "      <td>0</td>\n",
       "      <td>0</td>\n",
       "      <td>0</td>\n",
       "      <td>1</td>\n",
       "      <td>0</td>\n",
       "      <td>0</td>\n",
       "      <td>0</td>\n",
       "      <td>0</td>\n",
       "      <td>19.959164</td>\n",
       "      <td>16.026367</td>\n",
       "      <td>256.844450</td>\n",
       "    </tr>\n",
       "  </tbody>\n",
       "</table>\n",
       "</div>"
      ],
      "text/plain": [
       "   horse  ball  bike  train  coal  book  doll  blocks  gloves       mean  \\\n",
       "0      3     0     0      0     0     0     0       0       0  15.046766   \n",
       "1      2     1     0      0     0     0     0       0       0  12.018329   \n",
       "2      2     0     1      0     0     0     0       0       0  28.644716   \n",
       "3      2     0     0      1     0     0     0       0       0  20.044023   \n",
       "4      2     0     0      0     1     0     0       0       0  19.959164   \n",
       "\n",
       "         std         var  \n",
       "0   3.415452   11.665312  \n",
       "1   2.814923    7.923792  \n",
       "2  10.535615  110.999175  \n",
       "3   5.603383   31.397905  \n",
       "4  16.026367  256.844450  "
      ]
     },
     "execution_count": 8,
     "metadata": {},
     "output_type": "execute_result"
    }
   ],
   "source": [
    "from collections import deque\n",
    "\n",
    "def get_update_value(bag, bag_stats):\n",
    "    if bag in bag_stats:\n",
    "        bag_mean, bag_std = bag_stats[bag]\n",
    "    else:\n",
    "        bag_mean, bag_std = gift_value(bag)\n",
    "        bag_stats[bag] = (bag_mean, bag_std)\n",
    "    return bag_mean, bag_std\n",
    "\n",
    "def gen_bags():\n",
    "    bag_stats = dict()\n",
    "    queued = dict()\n",
    "    queue = deque()\n",
    "    bags = []\n",
    "    bag0 = (0,0,0,0,0,0,0,0,0)\n",
    "    queue.append(bag0)\n",
    "    queued[bag0] = True\n",
    "    bag_stats[bag0] = (0,0)\n",
    "    counter = 0\n",
    "    try:\n",
    "        while True:\n",
    "            if counter % 1000 == 0:\n",
    "                print(counter, end=' ')\n",
    "            counter += 1\n",
    "            bag = queue.popleft()\n",
    "            bag_mean, bag_std = get_update_value(bag, bag_stats)\n",
    "            bags.append(bag+(bag_mean, bag_std ))\n",
    "            for gift in range(ngift_types):\n",
    "                new_bag = list(bag)\n",
    "                new_bag[gift] = 1 + bag[gift]\n",
    "                new_bag = tuple(new_bag)\n",
    "                if new_bag in queued:\n",
    "                    continue\n",
    "                new_bag_mean, new_bag_std = get_update_value(new_bag, bag_stats)\n",
    "                if new_bag_mean > bag_mean:\n",
    "                    queue.append(new_bag)\n",
    "                    queued[new_bag] = True\n",
    "                    \n",
    "    except:\n",
    "        return bags\n",
    "\n",
    "    \n",
    "bags = gen_bags()\n",
    "\n",
    "nbags = len(bags)\n",
    "\n",
    "bags = pd.DataFrame(columns=gift_types+['mean', 'std'], \n",
    "                    data=bags)\n",
    "\n",
    "bags['var'] = bags['std']**2\n",
    "\n",
    "bags = bags[bags[gift_types].sum(axis=1) >= 3].reset_index(drop=True)\n",
    "\n",
    "bags.head()"
   ]
  },
  {
   "cell_type": "markdown",
   "metadata": {},
   "source": [
    "We have about 40k bags."
   ]
  },
  {
   "cell_type": "code",
   "execution_count": 9,
   "metadata": {
    "collapsed": false
   },
   "outputs": [
    {
     "data": {
      "text/plain": [
       "40087"
      ]
     },
     "execution_count": 9,
     "metadata": {},
     "output_type": "execute_result"
    }
   ],
   "source": [
    "bags.shape[0]"
   ]
  },
  {
   "cell_type": "markdown",
   "metadata": {},
   "source": [
    "Let's now look at the available gifts.  We one hot encode the gift type."
   ]
  },
  {
   "cell_type": "code",
   "execution_count": 11,
   "metadata": {
    "collapsed": false
   },
   "outputs": [
    {
     "data": {
      "text/html": [
       "<div>\n",
       "<table border=\"1\" class=\"dataframe\">\n",
       "  <thead>\n",
       "    <tr style=\"text-align: right;\">\n",
       "      <th></th>\n",
       "      <th>GiftId</th>\n",
       "      <th>horse</th>\n",
       "      <th>ball</th>\n",
       "      <th>bike</th>\n",
       "      <th>train</th>\n",
       "      <th>coal</th>\n",
       "      <th>book</th>\n",
       "      <th>doll</th>\n",
       "      <th>blocks</th>\n",
       "      <th>gloves</th>\n",
       "    </tr>\n",
       "  </thead>\n",
       "  <tbody>\n",
       "    <tr>\n",
       "      <th>0</th>\n",
       "      <td>horse_0</td>\n",
       "      <td>1.0</td>\n",
       "      <td>0.0</td>\n",
       "      <td>0.0</td>\n",
       "      <td>0.0</td>\n",
       "      <td>0.0</td>\n",
       "      <td>0.0</td>\n",
       "      <td>0.0</td>\n",
       "      <td>0.0</td>\n",
       "      <td>0.0</td>\n",
       "    </tr>\n",
       "    <tr>\n",
       "      <th>1</th>\n",
       "      <td>horse_1</td>\n",
       "      <td>1.0</td>\n",
       "      <td>0.0</td>\n",
       "      <td>0.0</td>\n",
       "      <td>0.0</td>\n",
       "      <td>0.0</td>\n",
       "      <td>0.0</td>\n",
       "      <td>0.0</td>\n",
       "      <td>0.0</td>\n",
       "      <td>0.0</td>\n",
       "    </tr>\n",
       "    <tr>\n",
       "      <th>2</th>\n",
       "      <td>horse_2</td>\n",
       "      <td>1.0</td>\n",
       "      <td>0.0</td>\n",
       "      <td>0.0</td>\n",
       "      <td>0.0</td>\n",
       "      <td>0.0</td>\n",
       "      <td>0.0</td>\n",
       "      <td>0.0</td>\n",
       "      <td>0.0</td>\n",
       "      <td>0.0</td>\n",
       "    </tr>\n",
       "    <tr>\n",
       "      <th>3</th>\n",
       "      <td>horse_3</td>\n",
       "      <td>1.0</td>\n",
       "      <td>0.0</td>\n",
       "      <td>0.0</td>\n",
       "      <td>0.0</td>\n",
       "      <td>0.0</td>\n",
       "      <td>0.0</td>\n",
       "      <td>0.0</td>\n",
       "      <td>0.0</td>\n",
       "      <td>0.0</td>\n",
       "    </tr>\n",
       "    <tr>\n",
       "      <th>4</th>\n",
       "      <td>horse_4</td>\n",
       "      <td>1.0</td>\n",
       "      <td>0.0</td>\n",
       "      <td>0.0</td>\n",
       "      <td>0.0</td>\n",
       "      <td>0.0</td>\n",
       "      <td>0.0</td>\n",
       "      <td>0.0</td>\n",
       "      <td>0.0</td>\n",
       "      <td>0.0</td>\n",
       "    </tr>\n",
       "  </tbody>\n",
       "</table>\n",
       "</div>"
      ],
      "text/plain": [
       "    GiftId  horse  ball  bike  train  coal  book  doll  blocks  gloves\n",
       "0  horse_0    1.0   0.0   0.0    0.0   0.0   0.0   0.0     0.0     0.0\n",
       "1  horse_1    1.0   0.0   0.0    0.0   0.0   0.0   0.0     0.0     0.0\n",
       "2  horse_2    1.0   0.0   0.0    0.0   0.0   0.0   0.0     0.0     0.0\n",
       "3  horse_3    1.0   0.0   0.0    0.0   0.0   0.0   0.0     0.0     0.0\n",
       "4  horse_4    1.0   0.0   0.0    0.0   0.0   0.0   0.0     0.0     0.0"
      ]
     },
     "execution_count": 11,
     "metadata": {},
     "output_type": "execute_result"
    }
   ],
   "source": [
    "gifts = pd.read_csv('../input/gifts.csv')\n",
    "\n",
    "for gift in gift_types:\n",
    "    gifts[gift] = 1.0 * gifts['GiftId'].str.startswith(gift)\n",
    "\n",
    "gifts.head()"
   ]
  },
  {
   "cell_type": "markdown",
   "metadata": {},
   "source": [
    "The number of gift of each type is easy to get."
   ]
  },
  {
   "cell_type": "code",
   "execution_count": 12,
   "metadata": {
    "collapsed": false
   },
   "outputs": [
    {
     "data": {
      "text/plain": [
       "horse     1000.0\n",
       "ball      1100.0\n",
       "bike       500.0\n",
       "train     1000.0\n",
       "coal       166.0\n",
       "book      1200.0\n",
       "doll      1000.0\n",
       "blocks    1000.0\n",
       "gloves     200.0\n",
       "dtype: float64"
      ]
     },
     "execution_count": 12,
     "metadata": {},
     "output_type": "execute_result"
    }
   ],
   "source": [
    "allgifts = gifts[gift_types].sum()\n",
    "\n",
    "allgifts"
   ]
  },
  {
   "cell_type": "markdown",
   "metadata": {},
   "source": [
    "We can now look for a combination of bag types that optimizes the expected value, or a combination of the expected value and the standard deviation.\n",
    "\n",
    "The mathematical formulation is as follows.\n",
    "\n",
    "$$\n",
    "\\begin{align}\n",
    "& \\text{maximize} && mean + \\alpha \\cdot std& \\\\\n",
    "& \\text{s.t.} \n",
    "&& \\sum_{i=1}^n g_{ij} \\cdot x_i \\leq capa_j && \\forall j = 1,\\ldots,m \\\\\n",
    "&&& \\sum_{i=1}^nx_i \\leq 1000  \\\\\n",
    "&&& \\sum_{i=1}^n mean_i \\cdot x_i = mean & \\\\\n",
    "&&& \\sum_{i=1}^n var_i \\cdot x_i = var & \\\\\n",
    "&&& std^2 = var & \\\\\n",
    "&&& x_{i} \\geq 0&& \\forall i = 1,\\ldots,n\\\\\n",
    "\\end{align}\n",
    "$$ \n",
    "where:\n",
    "- $n$ is the number of bag types\n",
    "- $m$ the number of gift types\n",
    "- $\\alpha$ is the relative importance of std vs mean in the objective function\n",
    "- $w_i$ the expected value of the weight of bag type $i$\n",
    "- $var_i$ the variance of the weight of bag type $i$\n",
    "- $g_{ij}$ the number of gifts of type $j$ in bag type $i$\n",
    "- $capa_j$ the number of available gifts of type $j$\n",
    "- $x_i$ is an integer decision variable that takes the value $a$ if bag type $i$ is used $a$ times\n",
    "- $std$ a decision variable representing the standard deviation of the solution\n",
    "- $var$ a decision variable representing the variance of the solution\n",
    "\n",
    "Constraints (1) ensure that the solution does not use more gifts than available. Constraints (2) states that there are at most 1,000 bags in the solution.  Constraint (3) computes the mean the solution, constraint (4) computes the variance of the solution, and constraint (5) compute its standard deviation.\n",
    "\n",
    "The trick \n",
    "here is that the last constraint is a quadratic constraint.  We cannot use an open source LP solver because of\n",
    "it, which is why I use CPLEX.  CPLEX is not available on Kaggle kernel, but one can use the [feely available DoCplexCloud trial](https://developer.ibm.com/docloud/try-docloud-free/) run the following code."
   ]
  },
  {
   "cell_type": "code",
   "execution_count": 14,
   "metadata": {
    "collapsed": false
   },
   "outputs": [],
   "source": [
    "from docplex.mp.model import Model\n",
    "\n",
    "def qcpmip_solve(gift_types, bags, std_coef):\n",
    "    mdl = Model('Santa')\n",
    "\n",
    "    rbags = range(bags.shape[0])\n",
    "    x_names = ['x_%d' % i for i in range(bags.shape[0])]\n",
    "    x = mdl.integer_var_list(rbags, lb=0, name=x_names)\n",
    "    \n",
    "    var = mdl.continuous_var(lb=0, ub=mdl.infinity, name='var')\n",
    "    std = mdl.continuous_var(lb=0, ub=mdl.infinity, name='std')\n",
    "    mean = mdl.continuous_var(lb=0, ub=mdl.infinity, name='mean')\n",
    "                                  \n",
    "    mdl.maximize(mean + std_coef * std)\n",
    "    \n",
    "    for gift in gift_types:\n",
    "        mdl.add_constraint(mdl.sum(bags[gift][i] * x[i] for i in rbags) <= allgifts[gift])\n",
    "        \n",
    "    mdl.add_constraint(mdl.sum(x[i] for i in rbags) <= 1000)\n",
    "\n",
    "    mdl.add_constraint(mdl.sum(bags['mean'][i] * x[i] for i in rbags) == mean)\n",
    "    \n",
    "    mdl.add_constraint(mdl.sum(bags['var'][i] * x[i] for i in rbags) == var)\n",
    "\n",
    "    mdl.add_constraint(std**2 <= var)\n",
    "    \n",
    "    mdl.parameters.mip.tolerances.mipgap = 0.00001\n",
    "    \n",
    "    s = mdl.solve(log_output=False)\n",
    "    assert s is not None\n",
    "    mdl.print_solution()\n",
    "    "
   ]
  },
  {
   "cell_type": "markdown",
   "metadata": {},
   "source": [
    "We can now solve the problem if we have CPLEX installed. For instance, if we are only looking for the best expected value:"
   ]
  },
  {
   "cell_type": "code",
   "execution_count": 15,
   "metadata": {
    "collapsed": false
   },
   "outputs": [
    {
     "ename": "DOcplexException",
     "evalue": "CPLEX DLL not found: please provide DOcplexcloud credentials",
     "output_type": "error",
     "traceback": [
      "\u001b[1;31m---------------------------------------------------------------------------\u001b[0m",
      "\u001b[1;31mDOcplexException\u001b[0m                          Traceback (most recent call last)",
      "\u001b[1;32m<ipython-input-15-0cc4d0bb1120>\u001b[0m in \u001b[0;36m<module>\u001b[1;34m()\u001b[0m\n\u001b[1;32m----> 1\u001b[1;33m \u001b[0mqcpmip_solve\u001b[0m\u001b[1;33m(\u001b[0m\u001b[0mgift_types\u001b[0m\u001b[1;33m,\u001b[0m \u001b[0mbags\u001b[0m\u001b[1;33m,\u001b[0m \u001b[1;36m0.0\u001b[0m\u001b[1;33m)\u001b[0m\u001b[1;33m\u001b[0m\u001b[0m\n\u001b[0m",
      "\u001b[1;32m<ipython-input-14-08b8f4c0c551>\u001b[0m in \u001b[0;36mqcpmip_solve\u001b[1;34m(gift_types, bags, std_coef)\u001b[0m\n\u001b[0;32m     27\u001b[0m     \u001b[0mmdl\u001b[0m\u001b[1;33m.\u001b[0m\u001b[0mparameters\u001b[0m\u001b[1;33m.\u001b[0m\u001b[0mmip\u001b[0m\u001b[1;33m.\u001b[0m\u001b[0mtolerances\u001b[0m\u001b[1;33m.\u001b[0m\u001b[0mmipgap\u001b[0m \u001b[1;33m=\u001b[0m \u001b[1;36m0.00001\u001b[0m\u001b[1;33m\u001b[0m\u001b[0m\n\u001b[0;32m     28\u001b[0m \u001b[1;33m\u001b[0m\u001b[0m\n\u001b[1;32m---> 29\u001b[1;33m     \u001b[0ms\u001b[0m \u001b[1;33m=\u001b[0m \u001b[0mmdl\u001b[0m\u001b[1;33m.\u001b[0m\u001b[0msolve\u001b[0m\u001b[1;33m(\u001b[0m\u001b[0mlog_output\u001b[0m\u001b[1;33m=\u001b[0m\u001b[1;32mFalse\u001b[0m\u001b[1;33m)\u001b[0m\u001b[1;33m\u001b[0m\u001b[0m\n\u001b[0m\u001b[0;32m     30\u001b[0m     \u001b[1;32massert\u001b[0m \u001b[0ms\u001b[0m \u001b[1;32mis\u001b[0m \u001b[1;32mnot\u001b[0m \u001b[1;32mNone\u001b[0m\u001b[1;33m\u001b[0m\u001b[0m\n\u001b[0;32m     31\u001b[0m     \u001b[0mmdl\u001b[0m\u001b[1;33m.\u001b[0m\u001b[0mprint_solution\u001b[0m\u001b[1;33m(\u001b[0m\u001b[1;33m)\u001b[0m\u001b[1;33m\u001b[0m\u001b[0m\n",
      "\u001b[1;32md:\\Anaconda3\\lib\\site-packages\\docplex\\mp\\model.py\u001b[0m in \u001b[0;36msolve\u001b[1;34m(self, **kwargs)\u001b[0m\n\u001b[0;32m   3186\u001b[0m             \u001b[1;32melse\u001b[0m\u001b[1;33m:\u001b[0m\u001b[1;33m\u001b[0m\u001b[0m\n\u001b[0;32m   3187\u001b[0m                 \u001b[1;31m# no way to solve.. really\u001b[0m\u001b[1;33m\u001b[0m\u001b[1;33m\u001b[0m\u001b[0m\n\u001b[1;32m-> 3188\u001b[1;33m                 \u001b[1;32mreturn\u001b[0m \u001b[0mself\u001b[0m\u001b[1;33m.\u001b[0m\u001b[0mfatal\u001b[0m\u001b[1;33m(\u001b[0m\u001b[1;34m\"CPLEX DLL not found: please provide DOcplexcloud credentials\"\u001b[0m\u001b[1;33m)\u001b[0m\u001b[1;33m\u001b[0m\u001b[0m\n\u001b[0m\u001b[0;32m   3189\u001b[0m         \u001b[1;32mfinally\u001b[0m\u001b[1;33m:\u001b[0m\u001b[1;33m\u001b[0m\u001b[0m\n\u001b[0;32m   3190\u001b[0m             \u001b[1;32mif\u001b[0m \u001b[0msaved_log_output_stream\u001b[0m \u001b[1;33m!=\u001b[0m \u001b[0mself\u001b[0m\u001b[1;33m.\u001b[0m\u001b[0mget_log_output\u001b[0m\u001b[1;33m(\u001b[0m\u001b[1;33m)\u001b[0m\u001b[1;33m:\u001b[0m\u001b[1;33m\u001b[0m\u001b[0m\n",
      "\u001b[1;32md:\\Anaconda3\\lib\\site-packages\\docplex\\mp\\model.py\u001b[0m in \u001b[0;36mfatal\u001b[1;34m(self, msg, *args)\u001b[0m\n\u001b[0;32m   1032\u001b[0m \u001b[1;33m\u001b[0m\u001b[0m\n\u001b[0;32m   1033\u001b[0m     \u001b[1;32mdef\u001b[0m \u001b[0mfatal\u001b[0m\u001b[1;33m(\u001b[0m\u001b[0mself\u001b[0m\u001b[1;33m,\u001b[0m \u001b[0mmsg\u001b[0m\u001b[1;33m,\u001b[0m \u001b[1;33m*\u001b[0m\u001b[0margs\u001b[0m\u001b[1;33m)\u001b[0m\u001b[1;33m:\u001b[0m\u001b[1;33m\u001b[0m\u001b[0m\n\u001b[1;32m-> 1034\u001b[1;33m         \u001b[0mself\u001b[0m\u001b[1;33m.\u001b[0m\u001b[0m__error_handler\u001b[0m\u001b[1;33m.\u001b[0m\u001b[0mfatal\u001b[0m\u001b[1;33m(\u001b[0m\u001b[0mmsg\u001b[0m\u001b[1;33m,\u001b[0m \u001b[0margs\u001b[0m\u001b[1;33m)\u001b[0m\u001b[1;33m\u001b[0m\u001b[0m\n\u001b[0m\u001b[0;32m   1035\u001b[0m \u001b[1;33m\u001b[0m\u001b[0m\n\u001b[0;32m   1036\u001b[0m     \u001b[1;32mdef\u001b[0m \u001b[0merror\u001b[0m\u001b[1;33m(\u001b[0m\u001b[0mself\u001b[0m\u001b[1;33m,\u001b[0m \u001b[0mmsg\u001b[0m\u001b[1;33m,\u001b[0m \u001b[1;33m*\u001b[0m\u001b[0margs\u001b[0m\u001b[1;33m)\u001b[0m\u001b[1;33m:\u001b[0m\u001b[1;33m\u001b[0m\u001b[0m\n",
      "\u001b[1;32md:\\Anaconda3\\lib\\site-packages\\docplex\\mp\\error_handler.py\u001b[0m in \u001b[0;36mfatal\u001b[1;34m(self, msg, args)\u001b[0m\n\u001b[0;32m    208\u001b[0m         \u001b[0mresolved_message\u001b[0m \u001b[1;33m=\u001b[0m \u001b[0mresolve_pattern\u001b[0m\u001b[1;33m(\u001b[0m\u001b[0mmsg\u001b[0m\u001b[1;33m,\u001b[0m \u001b[0margs\u001b[0m\u001b[1;33m)\u001b[0m\u001b[1;33m\u001b[0m\u001b[0m\n\u001b[0;32m    209\u001b[0m         \u001b[0mdocplex_error_stop_here\u001b[0m\u001b[1;33m(\u001b[0m\u001b[1;33m)\u001b[0m\u001b[1;33m\u001b[0m\u001b[0m\n\u001b[1;32m--> 210\u001b[1;33m         \u001b[1;32mraise\u001b[0m \u001b[0mDOcplexException\u001b[0m\u001b[1;33m(\u001b[0m\u001b[0mresolved_message\u001b[0m\u001b[1;33m)\u001b[0m\u001b[1;33m\u001b[0m\u001b[0m\n\u001b[0m\u001b[0;32m    211\u001b[0m \u001b[1;33m\u001b[0m\u001b[0m\n\u001b[0;32m    212\u001b[0m     \u001b[1;32mdef\u001b[0m \u001b[0mok\u001b[0m\u001b[1;33m(\u001b[0m\u001b[0mself\u001b[0m\u001b[1;33m)\u001b[0m\u001b[1;33m:\u001b[0m\u001b[1;33m\u001b[0m\u001b[0m\n",
      "\u001b[1;31mDOcplexException\u001b[0m: CPLEX DLL not found: please provide DOcplexcloud credentials"
     ]
    }
   ],
   "source": [
    "qcpmip_solve(gift_types, bags, 0.0)"
   ]
  },
  {
   "cell_type": "markdown",
   "metadata": {},
   "source": [
    "Let me paste output here given it does not run on Kaggle kernel:\n",
    "\n",
    "    objective: 35618.561\n",
    "      x_14954=1\n",
    "      x_368=63\n",
    "      x_773=395\n",
    "      x_3936=93\n",
    "      x_39480=47\n",
    "      x_36998=1\n",
    "      x_474=24\n",
    "      x_11628=55\n",
    "      mean=35618.561\n",
    "      x_2089=76\n",
    "      x_264=46\n",
    "      x_2091=199"
   ]
  },
  {
   "cell_type": "markdown",
   "metadata": {},
   "source": [
    "We see that the best solution structure has an expected value around 35620.  I noticed that as the sample size is increased (the value of nsample), then the objective value decreases."
   ]
  },
  {
   "cell_type": "markdown",
   "metadata": {},
   "source": [
    "For instance, when using `nsample=100000`, we get\n",
    "    \n",
    "   \n",
    "\n",
    "     objective: 35545.217\n",
    "      x_2315=6\n",
    "      x_36888=1\n",
    "      x_2301=61\n",
    "      x_39358=47\n",
    "      x_8792=115\n",
    "      x_5991=2\n",
    "      x_420=2\n",
    "      x_822=1\n",
    "      x_315=286\n",
    "      x_2137=303\n",
    "      mean=35545.217\n",
    "      var=106992.386\n",
    "      x_418=87\n",
    "      x_3965=89"
   ]
  },
  {
   "cell_type": "markdown",
   "metadata": {},
   "source": [
    "We see that the expected value is now about 35545. When I run the code with even larger sample, for instance with nsample=1000000 I get below 35540."
   ]
  },
  {
   "cell_type": "markdown",
   "metadata": {},
   "source": [
    "If we want to maximize the expected value plus 3 times the standard deviation:"
   ]
  },
  {
   "cell_type": "code",
   "execution_count": null,
   "metadata": {
    "collapsed": true
   },
   "outputs": [],
   "source": [
    "qcpmip_solve(gift_types, bags, 3.0)"
   ]
  },
  {
   "cell_type": "markdown",
   "metadata": {},
   "source": [
    "Output with `nsample=100000` is:\n",
    "\n",
    "    objective: 36533.143\n",
    "      var=113259.323\n",
    "      mean=35523.522\n",
    "      x_3965=100\n",
    "      x_36888=1\n",
    "      x_523=1\n",
    "      x_2137=299\n",
    "      x_315=199\n",
    "      x_6121=49\n",
    "      x_39358=47\n",
    "      x_2301=200\n",
    "      x_8768=1\n",
    "      x_1035=95\n",
    "      std=336.540\n",
    "      x_418=8"
   ]
  },
  {
   "cell_type": "markdown",
   "metadata": {},
   "source": [
    "This time we get a lower mean, but a larger std. \n",
    "\n",
    "Solution structure found this way are the best if given enough submissions, as they maximize the likelihood of a good submission.  But the competition shows that switching to a local search approach using feedback from LB is more effective."
   ]
  },
  {
   "cell_type": "code",
   "execution_count": null,
   "metadata": {
    "collapsed": true
   },
   "outputs": [],
   "source": []
  }
 ],
 "metadata": {
  "anaconda-cloud": {},
  "kernelspec": {
   "display_name": "Python [Root]",
   "language": "python",
   "name": "Python [Root]"
  },
  "language_info": {
   "codemirror_mode": {
    "name": "ipython",
    "version": 3
   },
   "file_extension": ".py",
   "mimetype": "text/x-python",
   "name": "python",
   "nbconvert_exporter": "python",
   "pygments_lexer": "ipython3",
   "version": "3.5.2"
  }
 },
 "nbformat": 4,
 "nbformat_minor": 0
}
