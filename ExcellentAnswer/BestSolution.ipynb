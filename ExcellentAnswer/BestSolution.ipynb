{
 "cells": [
  {
   "cell_type": "markdown",
   "metadata": {},
   "source": [
    "# Optimizing maximum scores of multiple submissions\n",
    "\n",
    "We can submit the to leaderboard multiple times and our best submission counts. Therefore, it is not necessarily best to go for submissions with the largest expected score. If we create submissions with large variance and try many of them, can we get lucky?\n",
    "\n",
    "I believe the answer is no! So don't expect too much here ;)\n",
    "\n",
    "In this notebook, I try to estimate some stuff to show why I believe it's not a good idea. I create a simplified model of Santa's bag packing problem and optimize for the largest order statistic over a number of submissions. The outline is as follows:\n",
    "\n",
    "1. Exploratory visualizations to understand the problem\n",
    "2. Computing utility distributions of a large number of different kinds of bags\n",
    "3. Packing bags and visualizing trade-off between mean and variance of score distributions\n",
    "4. Creating random submissions"
   ]
  },
  {
   "cell_type": "code",
   "execution_count": 1,
   "metadata": {
    "collapsed": true
   },
   "outputs": [],
   "source": [
    "import sys\n",
    "import os\n",
    "import math\n",
    "import numpy as np\n",
    "import pandas as pd\n",
    "import seaborn as sns\n",
    "from scipy.stats import norm, gumbel_r\n",
    "from scipy.optimize import linprog\n",
    "import matplotlib\n",
    "import matplotlib.pyplot as plt\n",
    "from sklearn.utils.extmath import cartesian\n",
    "%matplotlib inline"
   ]
  },
  {
   "cell_type": "markdown",
   "metadata": {},
   "source": [
    "# 1. Exploration via sampling\n",
    "Let's visualize distributions of individual items and bags.\n",
    "We look at both their weights as well as their utilities (their contribution to the score).\n",
    "Rules are that you need at least 3 items per bag and their combined weight must not exceed 50."
   ]
  },
  {
   "cell_type": "code",
   "execution_count": 2,
   "metadata": {
    "collapsed": false
   },
   "outputs": [
    {
     "name": "stdout",
     "output_type": "stream",
     "text": [
      "[  9.27655874  10.64432554   8.87755635  10.31104769  10.07945332\n",
      "   6.53904106  11.05740305   8.70047323   8.18155193   8.97980264]\n"
     ]
    }
   ],
   "source": [
    "def sample_horse(size=1):\n",
    "    return np.maximum(0, np.random.normal(5,2,size))\n",
    "\n",
    "def sample_ball(size=1):\n",
    "    return np.maximum(0, 1 + np.random.normal(1,0.3,size))\n",
    "\n",
    "def sample_bike(size=1):\n",
    "    return np.maximum(0, np.random.normal(20,10,size))\n",
    "\n",
    "def sample_train(size=1):\n",
    "    return np.maximum(0, np.random.normal(10,5,size))\n",
    "\n",
    "def sample_coal(size=1):\n",
    "    return 47 * np.random.beta(0.5,0.5,size)\n",
    "\n",
    "def sample_book(size=1):\n",
    "    return np.random.chisquare(2,size)\n",
    "\n",
    "def sample_doll(size=1):\n",
    "    return np.random.gamma(5,1,size)\n",
    "\n",
    "def sample_block(size=1):\n",
    "    return np.random.triangular(5,10,20,size)\n",
    "\n",
    "def sample_gloves(size=1):\n",
    "    dist1 = 3.0 + np.random.rand(size)\n",
    "    dist2 = np.random.rand(size)\n",
    "    toggle = np.random.rand(size) < 0.3\n",
    "    dist2[toggle] = dist1[toggle]\n",
    "    return dist2\n",
    "\n",
    "samplers = {\n",
    "    \"horse\": sample_horse,\n",
    "    \"ball\": sample_ball,\n",
    "    \"bike\": sample_bike,\n",
    "    \"train\": sample_train,\n",
    "    \"coal\": sample_coal,\n",
    "    \"book\": sample_book,\n",
    "    \"doll\": sample_doll,\n",
    "    \"blocks\": sample_block,\n",
    "    \"gloves\": sample_gloves\n",
    "}\n",
    "\n",
    "def sample(gift, quantity=1, size=1):\n",
    "    return np.sum(samplers[gift](quantity * size).reshape(quantity, size), axis=0)\n",
    "\n",
    "print(sample(\"horse\", 2, 10))"
   ]
  },
  {
   "cell_type": "markdown",
   "metadata": {},
   "source": [
    "Ok, so we can sample weights for individual gifts now and can also increase their quantities.\n",
    "Let's combine different gifts into bags now."
   ]
  },
  {
   "cell_type": "code",
   "execution_count": 3,
   "metadata": {
    "collapsed": false
   },
   "outputs": [
    {
     "name": "stdout",
     "output_type": "stream",
     "text": [
      "Sampling from bag ['ball(2)', 'horse(1)']: [ 11.00033533   6.48913529   7.45838557]\n"
     ]
    }
   ],
   "source": [
    "def bag_name(bag):\n",
    "    return str(list(map(lambda gift: \"{}({})\".format(gift, bag[gift]), sorted(bag.keys()))))\n",
    "\n",
    "def create_bag_weight_sampler(bag):\n",
    "    def bag_weight_sampler(size=1):\n",
    "        weight = np.array([0.0]*size)\n",
    "        for gift in sorted(bag.keys()):\n",
    "            weight += sample(gift, bag[gift], size)\n",
    "        return weight\n",
    "    return bag_weight_sampler, bag_name(bag)\n",
    "\n",
    "bag = { \"horse\": 1, \"ball\": 2 }\n",
    "bag_weight_sampler, name = create_bag_weight_sampler(bag)\n",
    "print(\"Sampling from bag {}: {}\".format(name, bag_weight_sampler(3)))"
   ]
  },
  {
   "cell_type": "markdown",
   "metadata": {},
   "source": [
    "Got the bag weight samplers, so let's see what the distributions look like:"
   ]
  },
  {
   "cell_type": "code",
   "execution_count": 4,
   "metadata": {
    "collapsed": false
   },
   "outputs": [
    {
     "name": "stdout",
     "output_type": "stream",
     "text": [
      "['horse(1)']: mean=4.993946813192761 | std=1.996633324877951\n",
      "['ball(1)']: mean=1.9999610260528669 | std=0.29926313156937207\n",
      "['bike(1)']: mean=20.124567036112893 | std=9.708503858533955\n",
      "['train(1)']: mean=10.096860157406196 | std=4.869808312140512\n",
      "['coal(1)']: mean=23.58260868501139 | std=16.516622050153853\n",
      "['book(1)']: mean=1.9651073829844155 | std=1.9856181023036743\n",
      "['doll(1)']: mean=4.987135341910291 | std=2.2546879620353106\n",
      "['blocks(1)']: mean=11.688418411569867 | std=3.1340615438180355\n",
      "['gloves(1)']: mean=1.3999615958058886 | std=1.4035020425739941\n"
     ]
    },
    {
     "data": {
      "image/png": "[encoded data removed]",
      "text/plain": [
       "<matplotlib.figure.Figure at 0x256e7e018d0>"
      ]
     },
     "metadata": {},
     "output_type": "display_data"
    }
   ],
   "source": [
    "def plot_bag_weight_distributions(bags, size=10000):\n",
    "    plot_distributions(bags, create_bag_weight_sampler, size=size, fit=norm)\n",
    "\n",
    "def plot_distributions(bags, sampler_builder, size=10000, fit=None):\n",
    "    num_plots = len(bags)\n",
    "    num_cols = int(round(math.sqrt(num_plots)))\n",
    "    num_rows = (num_plots // num_cols)\n",
    "    num_rows = num_rows if num_plots % num_cols == 0 else num_rows + 1\n",
    "    \n",
    "    f, axes = plt.subplots(num_rows, num_cols)\n",
    "    axes = axes.reshape(-1)\n",
    "    for i in range(num_plots):\n",
    "        current_bag = bags[i]\n",
    "        current_bag_sampler, current_bag_name = sampler_builder(current_bag)\n",
    "        current_sample = current_bag_sampler(size)\n",
    "        print(\"{}: mean={} | std={}\".format(current_bag_name, np.mean(current_sample), np.std(current_sample)))\n",
    "        current_axis = axes[i]\n",
    "        sns.distplot(current_sample, ax=current_axis, fit=fit, kde=False)\n",
    "        current_axis.set_title(current_bag_name)\n",
    "        current_axis.set_yticklabels([])\n",
    "    plt.tight_layout()\n",
    "    plt.show()\n",
    "    \n",
    "single_gift_bags = [\n",
    "    {\"horse\": 1},\n",
    "    {\"ball\": 1},\n",
    "    {\"bike\": 1},\n",
    "    {\"train\": 1},\n",
    "    {\"coal\": 1},\n",
    "    {\"book\": 1},\n",
    "    {\"doll\": 1},\n",
    "    {\"blocks\": 1},\n",
    "    {\"gloves\": 1}\n",
    "]\n",
    "\n",
    "plot_bag_weight_distributions(single_gift_bags)"
   ]
  },
  {
   "cell_type": "markdown",
   "metadata": {},
   "source": [
    "Note: some gift weight distributions are (almost) normal, others not at all.\n",
    "Let's look at bigger bags now:"
   ]
  },
  {
   "cell_type": "code",
   "execution_count": 5,
   "metadata": {
    "collapsed": false
   },
   "outputs": [
    {
     "name": "stdout",
     "output_type": "stream",
     "text": [
      "['ball(2)', 'horse(1)']: mean=8.976222091771112 | std=2.02818364422216\n",
      "['bike(1)', 'train(3)']: mean=50.266706199972404 | std=12.935022935786147\n",
      "['book(2)', 'coal(2)']: mean=51.30627208004272 | std=23.802869569528298\n",
      "['book(12)', 'gloves(12)']: mean=40.67046507385622 | std=8.537311541575615\n"
     ]
    },
    {
     "data": {
      "image/png": "[encoded data removed]",
      "text/plain": [
       "<matplotlib.figure.Figure at 0x256e7def828>"
      ]
     },
     "metadata": {},
     "output_type": "display_data"
    }
   ],
   "source": [
    "example_bags = [\n",
    "    {\"horse\": 1, \"ball\": 2},\n",
    "    {\"train\": 3, \"bike\": 1},\n",
    "    {\"coal\": 2, \"book\": 2},\n",
    "    {\"gloves\": 12, \"book\": 12},\n",
    "]\n",
    "\n",
    "plot_bag_weight_distributions(example_bags)"
   ]
  },
  {
   "cell_type": "markdown",
   "metadata": {},
   "source": [
    "Nice :)\n",
    "Even though individual gifts are not necessarily normal, big bags will almost certainly be (if we pack sufficiently many gifts into them).\n",
    "Let's take a break to thank nature for the central limit theorem.\n",
    "This is really cool because we can approximate the bag weight distribution by just summing up means and variances of the gift weight distributions.\n",
    "\n",
    "Now: estimate how utilities of bags will be distributed.\n",
    "I'll ignore the `enter code here`minimum count of 3 here and only do clipping at weight 50."
   ]
  },
  {
   "cell_type": "code",
   "execution_count": 6,
   "metadata": {
    "collapsed": false
   },
   "outputs": [
    {
     "name": "stdout",
     "output_type": "stream",
     "text": [
      "Sampling utility from bag ['ball(19)', 'horse(2)']: [ 46.04731982   0.          43.93051113]\n",
      "\n",
      "['ball(2)', 'horse(1)']: mean=9.039102341332967 | std=2.0480430719634337\n",
      "['bike(1)', 'train(3)']: mean=19.69264598925354 | std=20.494542628316285\n",
      "['book(2)', 'coal(2)']: mean=14.954966650191928 | std=18.15446031157489\n",
      "['book(12)', 'gloves(12)']: mean=33.17447717559809 | std=14.725342466629858\n"
     ]
    },
    {
     "data": {
      "image/png": "[encoded data removed]",
      "text/plain": [
       "<matplotlib.figure.Figure at 0x256e880fbe0>"
      ]
     },
     "metadata": {},
     "output_type": "display_data"
    }
   ],
   "source": [
    "def plot_bag_utility_distributions(bags, size=10000, fit=norm):\n",
    "    plot_distributions(bags, create_bag_utility_sampler, size=size, fit=fit)\n",
    "\n",
    "def create_bag_utility_sampler(bag):\n",
    "    bag_weight_sampler, bag_name = create_bag_weight_sampler(bag)\n",
    "    def bag_utility_sampler(size=1):\n",
    "        samples = bag_weight_sampler(size)\n",
    "        samples[samples > 50] = 0\n",
    "        return samples\n",
    "    return bag_utility_sampler, bag_name\n",
    "\n",
    "bag = { \"horse\": 2, \"ball\": 19 }\n",
    "bag_utility_sampler, name = create_bag_utility_sampler(bag)\n",
    "print(\"Sampling utility from bag {}: {}\\n\".format(name, bag_utility_sampler(3)))\n",
    "plot_bag_utility_distributions(example_bags)"
   ]
  },
  {
   "cell_type": "markdown",
   "metadata": {},
   "source": [
    "As expected, now that we clip at 50, distributions are again not at all normal because we get a lot of zeors (for bags with expected weighy close to 50, which we need for good scores).\n",
    "Still, as we will pack a 1000 bags, the central limit theorem will again come to rescue and things will get back to normal when we add up many bags.\n",
    "We will be able to approximate the final score distribution just by summing up means and variances of the bag utility distributions.\n",
    "Thus, it makes sense to also characterize bag utilities by mean and standard deviation.\n",
    "\n",
    "Let's now see what our score will be if we combine a lot of bags. One part is estimating the score distribution we will get from the bags. Furthermore, we will estimate what the best score would be if we could draw multiple times from that score distribution. This makes sense since we can submit to the leaderboard multiple times with randomly permuted gifts inside the bags. Hence, what we will get in the end is the best out of many trials.\n",
    "\n",
    "Important to note: what I do below assumed iid draws from the score distributions.\n",
    "For the leaderboard gift weights are fixed and we can only generate permutations of IDs.\n",
    "Thus, the assumptions don't really hold. This will be a rather crude approximation to keep things simple."
   ]
  },
  {
   "cell_type": "code",
   "execution_count": 7,
   "metadata": {
    "collapsed": false
   },
   "outputs": [
    {
     "name": "stdout",
     "output_type": "stream",
     "text": [
      "Scores: mean = 76.22 | std = 31.50\n",
      "Expected score after 60 trials: 143.45\n"
     ]
    },
    {
     "data": {
      "image/png": "[encoded data removed]",
      "text/plain": [
       "<matplotlib.figure.Figure at 0x256e890ac18>"
      ]
     },
     "metadata": {},
     "output_type": "display_data"
    }
   ],
   "source": [
    "def plot_score_distribution(bags, num_tries=60, size=10000, fit=norm, extremal_fit=gumbel_r):\n",
    "    scores = np.zeros(size)\n",
    "    for i, bag in enumerate(bags):\n",
    "        current_bag_sampler, _ = create_bag_utility_sampler(bag)\n",
    "        scores += current_bag_sampler(size)\n",
    "    score_mean, score_std = np.mean(scores), np.std(scores)\n",
    "    print(\"Scores: mean = {:0.2f} | std = {:0.2f}\".format(score_mean, score_std))\n",
    "    sns.distplot(scores, fit=fit, kde=False)\n",
    "    \n",
    "    plot_extreme_value_distribution(scores, num_tries)\n",
    "    plt.title(\"Score distribution / submission distribution with {} tries\".format(num_tries))\n",
    "    plt.show()\n",
    "\n",
    "def plot_extreme_value_distribution(scores, num_tries, size=10000):\n",
    "    samples = np.max(np.random.choice(scores, size=(size, num_tries)), axis=1)\n",
    "    sns.distplot(samples, fit=gumbel_r, kde=False)\n",
    "    expected_score = np.mean(samples)\n",
    "    plt.axvline(expected_score, color='r')\n",
    "    print(\"Expected score after {} trials: {:0.2f}\".format(num_tries, expected_score))\n",
    "\n",
    "plot_score_distribution(example_bags)"
   ]
  },
  {
   "cell_type": "markdown",
   "metadata": {},
   "source": [
    "For our small set of 4 example bags, we not only get a crappy score but also the distribution does not look normal. But - interestingly - we can see that our score after 60 submissions would be a lot better than the score distribution's expected value.\n",
    "\n",
    "What would happen if we could create 1000 bag\n",
    "s of a certain kind? Also, let's verify that we can compute the score distribution from the means and variances of the bag utility distributions."
   ]
  },
  {
   "cell_type": "code",
   "execution_count": 8,
   "metadata": {
    "collapsed": false
   },
   "outputs": [
    {
     "name": "stdout",
     "output_type": "stream",
     "text": [
      "Computed statistics for 1000 bags: mean = 33274.53, std = 457.49\n",
      "Scores: mean = 33125.83 | std = 462.09\n",
      "Expected score after 60 trials: 34180.76\n"
     ]
    },
    {
     "data": {
      "image/png": "[encoded data removed]",
      "text/plain": [
       "<matplotlib.figure.Figure at 0x256e892ba90>"
      ]
     },
     "metadata": {},
     "output_type": "display_data"
    }
   ],
   "source": [
    "def n_bags(bag, n):\n",
    "    return [bag for i in range(n)]\n",
    "\n",
    "def estimate_mean_std_utility(bag, n=1, size=10000):\n",
    "    current_bag_sampler, _ = create_bag_utility_sampler(bag)\n",
    "    sample = current_bag_sampler(size)\n",
    "    return np.mean(sample) * n, math.sqrt(math.pow(np.std(sample), 2) * n)\n",
    "\n",
    "bag = {\"gloves\": 12, \"book\": 12}\n",
    "n = 1000\n",
    "\n",
    "est_bag_utility_mean, est_bag_utility_std = estimate_mean_std_utility(bag, n=n)\n",
    "print(\"Computed statistics for {} bags: mean = {:0.2f}, std = {:0.2f}\".format(n, est_bag_utility_mean, est_bag_utility_std))\n",
    "plot_score_distribution(n_bags(bag, n))"
   ]
  },
  {
   "cell_type": "markdown",
   "metadata": {},
   "source": [
    "Nice.\n",
    "Computing and sampling delivers roughly the same (normal) score distribution.\n",
    "\n",
    "## Summary\n",
    "\n",
    "Main observations from the experiments above are:\n",
    "\n",
    "- To get a weight distribution for individual bags, it is sufficient to add means and variances of individual gift weight distributions.\n",
    "- Getting the utility distribution for bags requires sampling as there is no immediately available formula (that I would know of).\n",
    "- Getting the overall score distribution can be done by adding means and variance of individual bag utility distributions.\n",
    "- Getting an estimate of the expected final score after _n_ submissions can be done by sampling from score distribution (or probably also algebraically, but that does not matter too much imho)"
   ]
  },
  {
   "cell_type": "markdown",
   "metadata": {},
   "source": [
    "# 2. Computing good bags\n",
    "So let's start by finding bags with good utility distributions in three steps:\n",
    "\n",
    "1. Get individual gift weight distributions: easy - just sample as there are so few\n",
    "2. Get candiate bags: compute many weight distributions for many bags and eliminate most of them heuristically\n",
    "3. Getting bag utility distributions: easy but inefficient - we use sampling for the candidate bags"
   ]
  },
  {
   "cell_type": "markdown",
   "metadata": {},
   "source": [
    "## 2.1 Get individual gift weight distributions\n",
    "As in 1., we just sample mean and variance for gift weights:"
   ]
  },
  {
   "cell_type": "code",
   "execution_count": 9,
   "metadata": {
    "collapsed": false
   },
   "outputs": [
    {
     "name": "stdout",
     "output_type": "stream",
     "text": [
      "Canonical gift order: ['ball', 'bike', 'blocks', 'book', 'coal', 'doll', 'gloves', 'horse', 'train']\n",
      "\n",
      "             mean         std\n",
      "ball     1.999359    0.090615\n",
      "bike    20.229937   95.694407\n",
      "blocks  11.613023    9.512805\n",
      "book     2.005699    4.073323\n",
      "coal    23.510956  277.100329\n",
      "doll     5.006272    5.037590\n",
      "gloves   1.414070    1.983514\n",
      "horse    5.008280    3.892144\n",
      "train   10.088743   24.050936\n"
     ]
    }
   ],
   "source": [
    "np.random.seed(42) # reset seed to make things reproducibe even if you fiddle around in the part above\n",
    "\n",
    "def get_gift_weight_distributions(gifts, size=10000):\n",
    "    def get_gift_weight_dsitribution(gift):\n",
    "        sampler = samplers[gift]\n",
    "        sample = sampler(size)\n",
    "        return np.mean(sample), np.var(sample)\n",
    "    \n",
    "    distributions = np.zeros((len(gifts), 2))\n",
    "    for i, gift in enumerate(gifts):\n",
    "        distributions[i, :] = get_gift_weight_dsitribution(gift)\n",
    "    return distributions\n",
    "\n",
    "gifts = sorted(samplers.keys())\n",
    "print(\"Canonical gift order: {}\\n\".format(gifts))\n",
    "gift_weight_distributions = get_gift_weight_distributions(gifts)\n",
    "print(pd.DataFrame(data=gift_weight_distributions, index=gifts, columns=[\"mean\", \"std\"]))"
   ]
  },
  {
   "cell_type": "markdown",
   "metadata": {},
   "source": [
    "## 2.2 Get bag weight distributions\n",
    "Next, we must create a list of bags we want to consider.\n",
    "We do so by creating a numpy array with each row corresponding to a bag, each column to a gift type and the matrix itself to gift quantities per bag.\n",
    "As it does not make much sense to increase expected weights beyond 50, we limit quantities correspondingly."
   ]
  },
  {
   "cell_type": "code",
   "execution_count": 10,
   "metadata": {
    "collapsed": false
   },
   "outputs": [
    {
     "name": "stdout",
     "output_type": "stream",
     "text": [
      "maximum quantities:\n",
      "[['ball' '26.0']\n",
      " ['bike' '3.0']\n",
      " ['blocks' '5.0']\n",
      " ['book' '25.0']\n",
      " ['coal' '3.0']\n",
      " ['doll' '10.0']\n",
      " ['gloves' '36.0']\n",
      " ['horse' '10.0']\n",
      " ['train' '5.0']]\n",
      "number of different bags: 526500000.0\n"
     ]
    }
   ],
   "source": [
    "def get_mixed_item_bags_max_quantities(upper_limit=None):\n",
    "    max_quantities = np.ceil(50 / gift_weight_distributions[:, 0])\n",
    "    if upper_limit is not None:\n",
    "        max_quantities[max_quantities > upper_limit] = upper_limit\n",
    "    return max_quantities\n",
    "\n",
    "mixed_item_max_quantities = get_mixed_item_bags_max_quantities()\n",
    "print(\"maximum quantities:\\n{}\".format(np.dstack((np.array(gifts), mixed_item_max_quantities)).squeeze()))\n",
    "print(\"number of different bags: {}\".format(np.prod(mixed_item_max_quantities)))"
   ]
  },
  {
   "cell_type": "markdown",
   "metadata": {},
   "source": [
    "These are really a lot of combinations.\n",
    "Let's limit the gift quantities by 11 to not explode to much here.\n",
    "We can then manually add some bags consisting of lots of low weight gifts (balls, books and gloves) combined with very few gifts of other kinds."
   ]
  },
  {
   "cell_type": "code",
   "execution_count": 11,
   "metadata": {
    "collapsed": false
   },
   "outputs": [
    {
     "name": "stdout",
     "output_type": "stream",
     "text": [
      "maximum quantities:\n",
      "[['ball' '11.0']\n",
      " ['bike' '3.0']\n",
      " ['blocks' '5.0']\n",
      " ['book' '11.0']\n",
      " ['coal' '3.0']\n",
      " ['doll' '10.0']\n",
      " ['gloves' '11.0']\n",
      " ['horse' '10.0']\n",
      " ['train' '5.0']]\n",
      "number of different bags: 29947500.0\n"
     ]
    }
   ],
   "source": [
    "mixed_item_max_quantities = get_mixed_item_bags_max_quantities(11)\n",
    "print(\"maximum quantities:\\n{}\".format(np.dstack((np.array(gifts), mixed_item_max_quantities)).squeeze()))\n",
    "print(\"number of different bags: {}\".format(np.prod(mixed_item_max_quantities)))"
   ]
  },
  {
   "cell_type": "code",
   "execution_count": 12,
   "metadata": {
    "collapsed": false
   },
   "outputs": [
    {
     "name": "stdout",
     "output_type": "stream",
     "text": [
      "Created candiadate bags: (29947500, 9)\n"
     ]
    }
   ],
   "source": [
    "def create_candidate_bags(max_quantities):\n",
    "    gift_counts = []\n",
    "    for max_quantity in max_quantities:\n",
    "        gift_counts.append(np.arange(max_quantity))\n",
    "    return cartesian(gift_counts)\n",
    "\n",
    "mixed_item_candiadte_bags = create_candidate_bags(mixed_item_max_quantities)\n",
    "print(\"Created candiadate bags: {}\".format(mixed_item_candiadte_bags.shape))"
   ]
  },
  {
   "cell_type": "code",
   "execution_count": 13,
   "metadata": {
    "collapsed": false
   },
   "outputs": [
    {
     "name": "stdout",
     "output_type": "stream",
     "text": [
      "Candidate bags left: (58957, 9)\n"
     ]
    }
   ],
   "source": [
    "def get_bag_weight_distributions(candidate_bags, min_mean=30, max_mean=50):\n",
    "    return np.dot(candidate_bags, gift_weight_distributions)\n",
    "\n",
    "def filter_by_mean(bags, distributions, min_mean=30, max_mean=50):\n",
    "    min_mask = mean_of(distributions) > min_mean\n",
    "    distributions = distributions[min_mask]\n",
    "    bags = bags[min_mask]\n",
    "    max_mask = mean_of(distributions) < max_mean\n",
    "    distributions = distributions[max_mask]\n",
    "    bags = bags[max_mask]\n",
    "    return bags, distributions\n",
    "\n",
    "def mean_of(distributions):\n",
    "    return distributions[:,0]\n",
    "\n",
    "mixed_item_bag_weight_distributions = get_bag_weight_distributions(mixed_item_candiadte_bags)\n",
    "mixed_item_candiadte_bags, mixed_item_bag_weight_distributions = \\\n",
    "    filter_by_mean(mixed_item_candiadte_bags, mixed_item_bag_weight_distributions)\n",
    "print(\"Candidate bags left: {}\".format(mixed_item_candiadte_bags.shape))"
   ]
  },
  {
   "cell_type": "markdown",
   "metadata": {},
   "source": [
    "To these candidate bags, we now add bags that consist primarily of one of the 3 low weight items (ball / book / gloves), combined with few of the others:"
   ]
  },
  {
   "cell_type": "code",
   "execution_count": 14,
   "metadata": {
    "collapsed": false
   },
   "outputs": [
    {
     "name": "stdout",
     "output_type": "stream",
     "text": [
      "Gift ball: number of different bags: 10156250.0\n",
      "Gift book: number of different bags: 9765625.0\n",
      "Gift gloves: number of different bags: 14062500.0\n",
      "Total number of canidate bags: (82817, 9)\n"
     ]
    }
   ],
   "source": [
    "def get_low_weight_item_candidate_bags():\n",
    "    bags = []\n",
    "    distributions = []\n",
    "    for gift in [\"ball\", \"book\", \"gloves\"]:\n",
    "        max_quantities = get_low_weight_item_bags_max_quantities_for(gift)\n",
    "        candiadte_bags = create_candidate_bags(max_quantities)\n",
    "        bags.append(candiadte_bags)\n",
    "        cadidate_bag_weight_distributions = get_bag_weight_distributions(candiadte_bags)\n",
    "        distributions.append(cadidate_bag_weight_distributions)\n",
    "    return np.vstack(bags), np.vstack(distributions)\n",
    "        \n",
    "\n",
    "def get_low_weight_item_bags_max_quantities_for(gift):\n",
    "    max_quantities = np.ceil(50 / gift_weight_distributions[:, 0])\n",
    "    gift_index = gifts.index(gift)\n",
    "    for i in range(len(max_quantities)):\n",
    "        if not i == gift_index:\n",
    "            max_quantities[i] = 5\n",
    "    print(\"Gift {}: number of different bags: {}\".format(gift, np.prod(max_quantities)))\n",
    "    return max_quantities\n",
    "\n",
    "low_weight_item_candidate_bags, low_weight_item_bag_weight_distributions = \\\n",
    "    filter_by_mean(*get_low_weight_item_candidate_bags())\n",
    "print(\"Total number of canidate bags: {}\".format(low_weight_item_candidate_bags.shape))"
   ]
  },
  {
   "cell_type": "code",
   "execution_count": 15,
   "metadata": {
    "collapsed": false
   },
   "outputs": [
    {
     "name": "stdout",
     "output_type": "stream",
     "text": [
      "Combined candiadte bags: (141774, 9)\n",
      "Final candidate bags without duplicates: (71071, 9)\n"
     ]
    }
   ],
   "source": [
    "def drop_duplicate(candidate_bags, distributions):\n",
    "    df = pd.DataFrame(data=np.hstack((candidate_bags, distributions)), columns=gifts + [\"mean\", \"std\"])\n",
    "    df.drop_duplicates(subset=gifts, inplace=True)\n",
    "    return df[gifts].values, df[[\"mean\", \"std\"]].values\n",
    "\n",
    "candidate_bags = np.vstack([mixed_item_candiadte_bags, low_weight_item_candidate_bags])\n",
    "bag_weight_distributions = np.vstack([mixed_item_bag_weight_distributions, low_weight_item_bag_weight_distributions])\n",
    "print(\"Combined candiadte bags: {}\".format(candidate_bags.shape))\n",
    "candidate_bags, bag_weight_distributions = drop_duplicate(candidate_bags, bag_weight_distributions)\n",
    "print(\"Final candidate bags without duplicates: {}\".format(candidate_bags.shape))"
   ]
  },
  {
   "cell_type": "markdown",
   "metadata": {},
   "source": [
    "## 2.3 Get bag utility distributions\n",
    "Now we use our sampler to estimate the utility distributions.\n",
    "This will take a few minutes..."
   ]
  },
  {
   "cell_type": "code",
   "execution_count": 16,
   "metadata": {
    "collapsed": false
   },
   "outputs": [
    {
     "name": "stdout",
     "output_type": "stream",
     "text": [
      "\n",
      "(71071, 2)\n"
     ]
    }
   ],
   "source": [
    "def get_bag_utility_distributions(candidate_bags):\n",
    "    distributions = []\n",
    "    size = len(candidate_bags)\n",
    "    for i, candidate_bag in enumerate(candidate_bags):\n",
    "        if i % 7000 == 0:\n",
    "            sys.stdout.write(\"{:.4f}\\r\".format(float(i) / float(size)))\n",
    "        distributions.append(get_bag_utility_distribution(candidate_bag))\n",
    "    print(\"\")\n",
    "    return np.vstack(distributions)\n",
    "\n",
    "def get_bag_utility_distribution(candidate_bag):\n",
    "    bag = { gifts[i]: int(candidate_bag[i]) for i in range(len(gifts)) if candidate_bag[i] > 0 }\n",
    "    sampler, name = create_bag_utility_sampler(bag)\n",
    "    sample = sampler(10000)\n",
    "    return np.mean(sample), np.var(sample)\n",
    "\n",
    "bag_utility_distributions = get_bag_utility_distributions(candidate_bags)\n",
    "print(bag_utility_distributions.shape)"
   ]
  },
  {
   "cell_type": "markdown",
   "metadata": {},
   "source": [
    "# 3. Combining good bags to bag sets\n",
    "Now we have a list of individual bags with their gift quantities and estimated utility distributions.\n",
    "We can use these to create bag sets with their distributions.\n",
    "Contsrained optimization is needed obey maximum gift number restrictions.\n",
    "As long as we optimize the mean of the score distribution we can use linear programming.\n",
    "If what we care for is the maximum order statistic though and we also like variance, it's not that easy.\n",
    "Hence, we proceed in two steps:\n",
    "- build a bag packer with LP that optimizes expected scores only but allows for a minimum variance constraint\n",
    "- grid search over minimum variances and compare resulting score distributions by sampling expected maximum values"
   ]
  },
  {
   "cell_type": "code",
   "execution_count": 17,
   "metadata": {
    "collapsed": true
   },
   "outputs": [],
   "source": [
    "num_gifts_available = {\n",
    "    \"horse\": 1000,\n",
    "    \"ball\": 1100,\n",
    "    \"bike\": 500,\n",
    "    \"train\": 1000,\n",
    "    \"book\": 1200,\n",
    "    \"doll\": 1000,\n",
    "    \"blocks\": 1000,\n",
    "    \"gloves\": 200,\n",
    "    \"coal\": 166\n",
    "}"
   ]
  },
  {
   "cell_type": "markdown",
   "metadata": {},
   "source": [
    "## 3.1 Packing bags with linear programming\n",
    "Linear programming is not integer programming, so after solving the problem, we need to fiddle around a bit with the solution to make things work. The main strategy is:\n",
    "- floor all bag quantities to get integer values\n",
    "- increase maximum bags the algorithm packs until we get >= 1000 bags after flooring\n",
    "- if that gives us > 1000 bags, just throw random bags away until we reach 1000\n",
    "\n",
    "Sometimes when I run this, the solver thinks the problem is infeasible. The code also accounts for that and assigns 0 score in these cases. "
   ]
  },
  {
   "cell_type": "code",
   "execution_count": 18,
   "metadata": {
    "collapsed": false
   },
   "outputs": [
    {
     "name": "stdout",
     "output_type": "stream",
     "text": [
      "1000 bags - score distribution: mean = 35573.17 | var = 104987.61\n"
     ]
    }
   ],
   "source": [
    "def pack_linprog(bags, distributions, min_variance, max_bags=1000):\n",
    "    # objective: c.T * x -> min\n",
    "    c = - distributions[:,0] # optimize sum of expected bag utilities\n",
    "    \n",
    "    # constraint: A_ub * x <= b_ub\n",
    "    A_ub = bags.T # don't use more gifts than available\n",
    "    b_ub = np.array([num_gifts_available[gift] for gift in gifts])\n",
    "    \n",
    "    A_ub = np.vstack([A_ub, np.ones(A_ub.shape[1])]) # pack at most max_bags gifts\n",
    "    b_ub = np.hstack([b_ub, [max_bags]])\n",
    "    \n",
    "    if min_variance is not None:\n",
    "        A_ub = np.vstack([A_ub, -distributions[:,1]]) # require minimum variance\n",
    "        b_ub = np.hstack([b_ub, [-min_variance]])\n",
    "    \n",
    "    result = linprog(c, A_ub=A_ub, b_ub=b_ub)\n",
    "    if result[\"success\"] == False:\n",
    "        return [], True\n",
    "    else:\n",
    "        return result[\"x\"].astype('int64'), False\n",
    "\n",
    "\n",
    "def pack_bags(bags, distributions, min_variance=None):\n",
    "    max_bags = 1000\n",
    "    bag_quantities, infeasible = pack_linprog(bags, distributions, min_variance=min_variance)\n",
    "    while np.sum(bag_quantities) < 1000:\n",
    "        max_bags += 1\n",
    "        bag_quantities, infeasible = pack_linprog(bags, distributions, min_variance=min_variance, max_bags=max_bags)\n",
    "        if max_bags > 1015:\n",
    "            print(\"WARNING: not getting 1000 bags\")\n",
    "            break\n",
    "        if infeasible:\n",
    "            continue\n",
    "    \n",
    "    if infeasible:\n",
    "        print(\"infeasible\")\n",
    "        return [], [], []\n",
    "    \n",
    "    chosen_bag_idx = np.where(bag_quantities)[0]\n",
    "    chosen_bags = bags[chosen_bag_idx]\n",
    "    chosen_distributions = distributions[chosen_bag_idx]\n",
    "    chosen_quantities = bag_quantities[chosen_bag_idx]\n",
    "    \n",
    "    while np.sum(chosen_quantities) > 1000:\n",
    "        idx = np.random.randint(len(chosen_quantities))\n",
    "        chosen_quantities[idx] = max (chosen_quantities[idx]-1, 0)\n",
    "    \n",
    "    score_distribution = np.dot(chosen_quantities, chosen_distributions)\n",
    "    print(\"{} bags - score distribution: mean = {:.2f} | var = {:.2f}\"\n",
    "          .format(np.sum(chosen_quantities), score_distribution[0], score_distribution[1]))\n",
    "    \n",
    "    return chosen_bags, chosen_distributions, chosen_quantities\n",
    "\n",
    "packed_bags, packed_distributions, packed_quantities \\\n",
    "    = pack_bags(candidate_bags, bag_utility_distributions, min_variance=None)"
   ]
  },
  {
   "cell_type": "code",
   "execution_count": 19,
   "metadata": {
    "collapsed": false
   },
   "outputs": [
    {
     "name": "stdout",
     "output_type": "stream",
     "text": [
      "1000 bags - score distribution: mean = 35566.60 | var = 105144.89\n",
      "1000 bags - score distribution: mean = 35402.45 | var = 133794.76\n",
      "1000 bags - score distribution: mean = 34927.61 | var = 168121.36\n",
      "1000 bags - score distribution: mean = 34293.73 | var = 202784.93\n",
      "1000 bags - score distribution: mean = 33564.48 | var = 236818.70\n",
      "1000 bags - score distribution: mean = 32654.64 | var = 271188.18\n",
      "1000 bags - score distribution: mean = 31687.87 | var = 305133.88\n",
      "1000 bags - score distribution: mean = 30502.91 | var = 339435.77\n",
      "1000 bags - score distribution: mean = 29160.63 | var = 373969.38\n",
      "1000 bags - score distribution: mean = 27487.43 | var = 408261.02\n"
     ]
    }
   ],
   "source": [
    "def evaluate_variances():\n",
    "    results = {}\n",
    "    for i, min_variance in enumerate(np.linspace(100000, 410000, num=10)):\n",
    "        bags, distributions, quantities = pack_bags(candidate_bags, bag_utility_distributions, min_variance=min_variance)\n",
    "        results[min_variance] = np.dot(quantities, distributions)\n",
    "    return results\n",
    "\n",
    "scores_for_min_variance = evaluate_variances()"
   ]
  },
  {
   "cell_type": "code",
   "execution_count": 20,
   "metadata": {
    "collapsed": false
   },
   "outputs": [
    {
     "name": "stdout",
     "output_type": "stream",
     "text": [
      "100000.0 - 36318.58537778378\n",
      "134444.44444444444 - 36251.28702608485\n",
      "168888.88888888888 - 35879.25809406644\n",
      "203333.33333333334 - 35338.69581367253\n",
      "237777.77777777778 - 34693.71861016105\n",
      "272222.22222222225 - 33861.99222276817\n",
      "306666.6666666667 - 32968.36900222529\n",
      "341111.1111111111 - 31855.88256598339\n",
      "375555.55555555556 - 30578.748462581567\n",
      "410000.0 - 28969.618397926675\n"
     ]
    },
    {
     "data": {
      "image/png": "[encoded data removed]",
      "text/plain": [
       "<matplotlib.figure.Figure at 0x256e889c7f0>"
      ]
     },
     "metadata": {},
     "output_type": "display_data"
    }
   ],
   "source": [
    "def plot_expected_scores_after(num_submissions, score_distributions):\n",
    "    min_variances = sorted(score_distributions.keys())\n",
    "    expected_scores = []\n",
    "    for min_variance in min_variances:\n",
    "        score_distribution = score_distributions[min_variance]\n",
    "        if not type(score_distribution) == np.ndarray:\n",
    "            expected_scores.append(0)\n",
    "            continue\n",
    "        samples = np.random.normal(score_distribution[0], math.sqrt(score_distribution[1]), (100000, num_submissions))\n",
    "        expected_scores.append(np.mean(np.max(samples, axis=1)))\n",
    "        print(\"{} - {}\".format(min_variance, np.mean(np.max(samples, axis=1))))\n",
    "    df = pd.DataFrame(data=np.hstack((np.expand_dims(min_variances, 1), np.expand_dims(expected_scores, 1))), columns=[\"min_variance\", \"expected_score\"])\n",
    "    sns.regplot(data=df, x=\"min_variance\", y=\"expected_score\", order=2)\n",
    "    plt.title(\"Expected score by minimum variance constraint\")\n",
    "\n",
    "plot_expected_scores_after(60, scores_for_min_variance)"
   ]
  },
  {
   "cell_type": "markdown",
   "metadata": {},
   "source": [
    "How sad: we cannot gain anything by increasing variance. It seems as if it's just best to optimize for expected score. Let's create submissions then."
   ]
  },
  {
   "cell_type": "markdown",
   "metadata": {},
   "source": [
    "# 4. Make submissions\n",
    "We now create a lot of submissions with randomly permuted gifts and hope there is a good one among them."
   ]
  },
  {
   "cell_type": "code",
   "execution_count": 25,
   "metadata": {
    "collapsed": false
   },
   "outputs": [],
   "source": [
    "np.random.seed(96)\n",
    "def create_submissions(bags, quantities, num_submissions=60):\n",
    "    def create_stock(n):\n",
    "        stock = { gift: list(map(lambda id: \"{}_{}\".format(gift, id) ,np.arange(num_gifts_available[gift]))) for gift in gifts }\n",
    "        return shuffle(stock, n)\n",
    "    \n",
    "    def shuffle(stock, seed):\n",
    "        for gift in stock.keys():\n",
    "            np.random.shuffle(stock[gift])\n",
    "        return stock\n",
    "    \n",
    "    def generate_submission(n):\n",
    "        stock = create_stock(n)\n",
    "        with open(\"submission_{}.csv\".format(n), 'w+') as submission_file:\n",
    "            submission_file.write('Gifts\\n')\n",
    "            for i in range(len(bags)):\n",
    "                for quantity in range(quantities[i]):\n",
    "                    current_gifts = bags[i]\n",
    "                    for gift_idx, gift_quantity in enumerate(current_gifts[:len(gifts)]):\n",
    "                        gift_name = gifts[gift_idx]\n",
    "                        for j in range(int(gift_quantity)):\n",
    "                            submission_file.write(\"{} \".format(stock[gift_name].pop()))\n",
    "                    submission_file.write(\"\\n\")\n",
    "    \n",
    "    for n in range(num_submissions):\n",
    "        generate_submission(n)\n",
    "        \n",
    "\n",
    "create_submissions(packed_bags, packed_quantities)"
   ]
  },
  {
   "cell_type": "code",
   "execution_count": 26,
   "metadata": {
    "collapsed": false
   },
   "outputs": [
    {
     "data": {
      "text/html": [
       "<div>\n",
       "<table border=\"1\" class=\"dataframe\">\n",
       "  <thead>\n",
       "    <tr style=\"text-align: right;\">\n",
       "      <th></th>\n",
       "      <th>Gifts</th>\n",
       "    </tr>\n",
       "  </thead>\n",
       "  <tbody>\n",
       "    <tr>\n",
       "      <th>0</th>\n",
       "      <td>horse_400 horse_213 horse_623 horse_581 horse_...</td>\n",
       "    </tr>\n",
       "    <tr>\n",
       "      <th>1</th>\n",
       "      <td>horse_44 horse_269 horse_754 horse_599 horse_8...</td>\n",
       "    </tr>\n",
       "    <tr>\n",
       "      <th>2</th>\n",
       "      <td>horse_518 horse_662 horse_634 horse_390 horse_...</td>\n",
       "    </tr>\n",
       "    <tr>\n",
       "      <th>3</th>\n",
       "      <td>horse_898 horse_150 horse_217 horse_13 horse_4...</td>\n",
       "    </tr>\n",
       "    <tr>\n",
       "      <th>4</th>\n",
       "      <td>horse_858 horse_372 horse_183 horse_40 horse_2...</td>\n",
       "    </tr>\n",
       "  </tbody>\n",
       "</table>\n",
       "</div>"
      ],
      "text/plain": [
       "                                               Gifts\n",
       "0  horse_400 horse_213 horse_623 horse_581 horse_...\n",
       "1  horse_44 horse_269 horse_754 horse_599 horse_8...\n",
       "2  horse_518 horse_662 horse_634 horse_390 horse_...\n",
       "3  horse_898 horse_150 horse_217 horse_13 horse_4...\n",
       "4  horse_858 horse_372 horse_183 horse_40 horse_2..."
      ]
     },
     "execution_count": 26,
     "metadata": {},
     "output_type": "execute_result"
    }
   ],
   "source": [
    "pd.read_csv('submission_0.csv').head()"
   ]
  },
  {
   "cell_type": "code",
   "execution_count": null,
   "metadata": {
    "collapsed": true
   },
   "outputs": [],
   "source": []
  }
 ],
 "metadata": {
  "anaconda-cloud": {},
  "kernelspec": {
   "display_name": "Python [Root]",
   "language": "python",
   "name": "Python [Root]"
  },
  "language_info": {
   "codemirror_mode": {
    "name": "ipython",
    "version": 3
   },
   "file_extension": ".py",
   "mimetype": "text/x-python",
   "name": "python",
   "nbconvert_exporter": "python",
   "pygments_lexer": "ipython3",
   "version": "3.5.2"
  }
 },
 "nbformat": 4,
 "nbformat_minor": 0
}
