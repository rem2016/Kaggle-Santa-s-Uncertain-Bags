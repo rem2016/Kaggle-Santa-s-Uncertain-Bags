{
 "cells": [
  {
   "cell_type": "code",
   "execution_count": 1,
   "metadata": {
    "collapsed": true
   },
   "outputs": [],
   "source": [
    "import pandas as pd\n",
    "import numpy as np\n",
    "import seaborn as sns\n",
    "import matplotlib.pyplot as plt\n",
    "from IPython.display import display\n",
    "\n",
    "%matplotlib inline"
   ]
  },
  {
   "cell_type": "markdown",
   "metadata": {},
   "source": [
    "Read csv file"
   ]
  },
  {
   "cell_type": "code",
   "execution_count": 209,
   "metadata": {
    "collapsed": false
   },
   "outputs": [
    {
     "data": {
      "text/plain": [
       "{'ball': 1100,\n",
       " 'bike': 500,\n",
       " 'blocks': 1000,\n",
       " 'book': 1200,\n",
       " 'coal': 166,\n",
       " 'doll': 1000,\n",
       " 'gloves': 200,\n",
       " 'horse': 1000,\n",
       " 'train': 1000}"
      ]
     },
     "metadata": {},
     "output_type": "display_data"
    }
   ],
   "source": [
    "df = pd.read_csv(\"gifts.csv\")\n",
    "di = {}\n",
    "def get_name(x):\n",
    "    return x.split('_')[0]\n",
    "def get_di():\n",
    "    global di\n",
    "    di = {}\n",
    "    for i in df.GiftId:\n",
    "        name = get_name(i)\n",
    "        di.setdefault(name, 0)\n",
    "        di[name] += 1"
   ]
  },
  {
   "cell_type": "code",
   "execution_count": 249,
   "metadata": {
    "collapsed": false
   },
   "outputs": [
    {
     "data": {
      "image/png": "[encoded data removed]",
      "text/plain": [
       "<matplotlib.figure.Figure at 0xc9570b8>"
      ]
     },
     "metadata": {},
     "output_type": "display_data"
    }
   ],
   "source": [
    "# use the following variable to score one bag distribution\n",
    "\n",
    "n_test = 1000\n",
    "\n",
    "horse = np.array([i if i >=0 else 0 for i in np.random.normal(5,2,n_test)])\n",
    "ball = np.array([i if i >=0 else 0 for i in np.random.normal(1,0.3,n_test)])\n",
    "bike = np.array([i if i >=0 else 0 for i in np.random.normal(20,10,n_test)])\n",
    "train = np.array([i if i >=0 else 0 for i in np.random.normal(10,5,n_test)])\n",
    "doll = np.random.gamma(5,1,n_test)\n",
    "book = np.random.chisquare(2,n_test)\n",
    "coal = 47*np.random.beta(0.5, 0.5, n_test)\n",
    "gloves = 3.0 + np.array([np.random.rand(1)[0] if np.random.rand(1) < 0.3 else np.random.rand(1)[0] for _ in range(n_test)])\n",
    "block = np.random.triangular(5,10,20,n_test)\n",
    "\n",
    "_ = plt.hist(book, bins=50)"
   ]
  },
  {
   "cell_type": "markdown",
   "metadata": {},
   "source": [
    "此处可以使用贪心策略，每一次搜索使每一袋期望最高的组合，之后再将该组合当中最容易用光的物品删除，之后再搜索下一个组合。\n",
    "\n",
    "搜索策略？穷举貌似不太好？先从小数开始逐个二分？\n",
    "\n",
    "此处使用了模拟退火算法\n",
    "\n",
    "搜索策略的编码:\n",
    "\n",
    "0. ball\n",
    "1. book\n",
    "2. gloves\n",
    "3. doll\n",
    "4. horse\n",
    "5. train\n",
    "6. block\n",
    "7. bike\n",
    "8. coal"
   ]
  },
  {
   "cell_type": "code",
   "execution_count": 250,
   "metadata": {
    "collapsed": false
   },
   "outputs": [],
   "source": [
    "# save the variable above\n",
    "reference_vec = np.array([ball, book, gloves, doll, horse, train, block, bike, coal])\n",
    "\n",
    "# definition of scorer\n",
    "def scorer(a, get_zero=False):\n",
    "    \"\"\"a should be a list of 9 values\"\"\"\n",
    "    ans = np.zeros(1000)\n",
    "    if len(a) != 9 or a is None:\n",
    "        return 0\n",
    "    for i,v in enumerate(a):\n",
    "        if isinstance(v, float):\n",
    "            v = int(v+0.5)\n",
    "        ans += reference_vec[i] * v\n",
    "    gl = ans>50\n",
    "    ans[gl] = 0\n",
    "    if not get_zero:\n",
    "        return ans.mean()\n",
    "    else:\n",
    "        return ans.mean(), float(gl.sum())/len(gl)"
   ]
  },
  {
   "cell_type": "code",
   "execution_count": 243,
   "metadata": {
    "collapsed": false
   },
   "outputs": [],
   "source": [
    "def standerize(restrict, x):\n",
    "    # make variable range from 0 to 1\n",
    "    g_index = x > 1\n",
    "    l_index = x < 0\n",
    "    x[g_index] = 1\n",
    "    x[l_index] = 0\n",
    "    return x\n",
    "\n",
    "def sim_anneling(restrict, r=0.999, maxiter=100):\n",
    "    \"\"\"\n",
    "    restrict is a list that limit the range of each values.\n",
    "    \n",
    "    Directly use the simulated annealing algorithm would get many 0 score anwer.\n",
    "    Therefore when get an bad answer, wo tend to decline the value rather than plus it.\n",
    "    \n",
    "    Here I used the zero_rate data to adjust change direction. When\n",
    "    zero_rate is too large, the direction will tend to be minus.\n",
    "    \"\"\"\n",
    "    threshold_zero = 0.6\n",
    "    if not isinstance(restrict, np.ndarray):\n",
    "        restrict = np.array(restrict)\n",
    "    v = np.random.rand(9)\n",
    "    # 各个参数可放大倍数\n",
    "    rescale_ = restrict[:, 1] - restrict[:, 0]\n",
    "    def rescale(x):\n",
    "        return x*rescale_ + restrict[:, 0]\n",
    "    best_v = v\n",
    "    best_score, zero_rate = scorer(rescale(v), True)\n",
    "    old_score = best_score\n",
    "    T, i = 1, 0\n",
    "    while(i < maxiter):\n",
    "        i += 1\n",
    "        dv = np.random.rand(9)\n",
    "        dv -= zero_rate * zero_rate * 4\n",
    "        dv = dv / np.sqrt((dv**2).sum())\n",
    "        dv = dv*T*0.18\n",
    "        new_v = dv + v\n",
    "        new_v = standerize(restrict, new_v)\n",
    "        new_score, zero_rate = scorer(rescale(new_v), True)\n",
    "        if (new_score - old_score) > -1e-3:\n",
    "            v = new_v\n",
    "            old_score = new_score\n",
    "        elif (np.random.rand()*10 > np.exp(-new_score + old_score)/T)\\\n",
    "             and new_score >= 1.0\\\n",
    "             and zero_rate > threshold_zero:\n",
    "            v = new_v\n",
    "            old_score = new_score\n",
    "            \n",
    "        if new_score > best_score:\n",
    "            best_score = new_score\n",
    "            best_v = v\n",
    "        if T > 0.0001:\n",
    "            T *= r\n",
    "    return rescale(best_v), best_score"
   ]
  },
  {
   "cell_type": "code",
   "execution_count": 238,
   "metadata": {
    "collapsed": false
   },
   "outputs": [
    {
     "name": "stdout",
     "output_type": "stream",
     "text": [
      "score:34.1227552088\n"
     ]
    },
    {
     "data": {
      "text/plain": [
       "array([2, 1, 0, 2, 0, 0, 2, 0, 0])"
      ]
     },
     "metadata": {},
     "output_type": "display_data"
    }
   ],
   "source": [
    "# define the default restriction variable\n",
    "stander_restrict = np.array([[0,5], [0,5], [0,7],[0,25],[0,20],[0,10],[0,10],[0,5],[0,2]])\n",
    "\n",
    "def stand(x):\n",
    "    # stupib name, because nothing other came to my head\n",
    "    # just transfer data type to int\n",
    "    return np.array([int(i+0.5) for i in x])\n",
    "\n",
    "def get_best(maxloop=1000, maxiter=100):\n",
    "    \"\"\"\n",
    "    use the sim_anneling function to get best answer\n",
    "    \"\"\"\n",
    "    global restrict\n",
    "    best_score = 0\n",
    "    best_v = 0\n",
    "    for i in range(maxloop):\n",
    "        a, b = sim_anneling(restrict, maxiter=maxiter)\n",
    "        if b > best_score:\n",
    "            best_v = a\n",
    "            best_score = b\n",
    "    return stand(best_v), best_score\n",
    "\n",
    "best_v, best_score = get_best()\n",
    "print(\"score:\" + str(best_score))\n",
    "\n",
    "display(best_v)"
   ]
  },
  {
   "cell_type": "code",
   "execution_count": 251,
   "metadata": {
    "collapsed": false
   },
   "outputs": [
    {
     "name": "stdout",
     "output_type": "stream",
     "text": [
      "1000\n",
      "[0 0 1 1 2 1 1 0 0]\n",
      "35.7258992337\n",
      "====================\n",
      "800\n",
      "[1 0 0 1 2 1 1 0 0]\n",
      "35.3151095111\n",
      "====================\n",
      "500\n",
      "[3 1 0 2 0 1 1 0 0]\n",
      "34.8004784191\n",
      "====================\n",
      "250\n",
      "[4 0 0 0 0 1 2 0 0]\n",
      "34.2248657451\n",
      "====================\n",
      "238\n",
      "[2 1 0 0 0 1 2 0 0]\n",
      "33.7012335002\n",
      "====================\n",
      "237\n",
      "[0 1 0 0 0 1 2 0 0]\n",
      "33.4169010104\n",
      "====================\n",
      "125\n",
      "[0 2 0 0 0 1 0 1 0]\n",
      "29.6715933312\n",
      "====================\n",
      "score:34335.8740069\n",
      "left:0\n",
      "left_item:[  0 587   0   0   0   0   0 375 166]\n"
     ]
    }
   ],
   "source": [
    "# save and run code\n",
    "# consider the left bags num\n",
    "\n",
    "get_di()\n",
    "ans_list = []\n",
    "left_bags = 1000\n",
    "restrict = np.array(stander_restrict, copy=True)\n",
    "names = ['ball', 'book', 'gloves', 'doll', 'horse', 'train', 'blocks', 'bike', 'coal']\n",
    "left_num = np.array([1100, 1200, 200, 1000, 1000, 1000, 1000, 500, 166])\n",
    "\n",
    "def sths(name, num=1):\n",
    "    global di\n",
    "    if not isinstance(name, str):\n",
    "        name = names[name]\n",
    "    s = (name + \"_{} \") * num\n",
    "    di[name] -= num\n",
    "    start = di[name]\n",
    "    return s.format(*[i for i in range(start, start+num)])\n",
    "\n",
    "def save_v(vector, times):\n",
    "    \"\"\"vector\"\"\"\n",
    "    for _ in range(times):\n",
    "        s = []\n",
    "        for i, v in enumerate(vector):\n",
    "            if v <= 0: continue\n",
    "            s.append(sths(names[i], v))\n",
    "        if len(s) == 0:\n",
    "            return\n",
    "        s = ' '.join(s)\n",
    "        ans_list.append(s)\n",
    "        \n",
    "ans_sum = 0.0\n",
    "\n",
    "# By test following program for several time, I found\n",
    "# that it prefer use the first three item, which inc-\n",
    "# lude ball, book and gloves. And the items which ha-\n",
    "# s such nice distribution shouldn't be used up so f-\n",
    "# ast, because it may reduce the chance to reach glo-\n",
    "# bal optimal.\n",
    "#\n",
    "# So I've to add a few lines to make a change and see\n",
    "# whether this should work.\n",
    "restrict[0] = [0, 1]\n",
    "restrict[1] = [0, 1]\n",
    "restrict[2] = [0, 1]\n",
    "\n",
    "i = 0\n",
    "while left_num.sum() and left_bags > 0:\n",
    "    i += 1\n",
    "    print(left_bags)\n",
    "    use, score = get_best()\n",
    "    print(use)\n",
    "    print(score)\n",
    "    if i > 3:\n",
    "        restrict[:3, 1] += 2\n",
    "    \n",
    "    # Calculate which kind of items will be used up first\n",
    "    minv, mini = 999999, 0\n",
    "    for i, (left, u) in enumerate(zip(left_num, use)):\n",
    "        if left < 1e-6 or u < 1e-6: continue\n",
    "        if float(left) / u < minv:\n",
    "            minv = float(left) / u\n",
    "            mini = i\n",
    "    used_times = min(int(minv), left_bags)\n",
    "    left_num -= used_times * use\n",
    "    left_bags -= used_times\n",
    "    save_v(use, used_times)\n",
    "    ans_sum += used_times * score\n",
    "    for i in range(9):\n",
    "        if left_num[i] < restrict[i][1]:\n",
    "            restrict[i][1] = left_num[i]\n",
    "        if left_num[i] < restrict[i][0]:\n",
    "            restrict[i][0] = left_num[i]\n",
    "    print('='*20)\n",
    "\n",
    "print(\"score:\" + str(ans_sum))\n",
    "print(\"left:\" + str(left_bags))\n",
    "print(\"left_item:\" + str(left_num))\n",
    "\n"
   ]
  },
  {
   "cell_type": "code",
   "execution_count": 252,
   "metadata": {
    "collapsed": false
   },
   "outputs": [
    {
     "name": "stdout",
     "output_type": "stream",
     "text": [
      "34335.8740069\n"
     ]
    }
   ],
   "source": [
    "ans = pd.DataFrame(ans_list, columns=['Gifts'])\n",
    "\n",
    "ans = ans[:1000]\n",
    "\n",
    "ans.to_csv('ans.csv', index=False)\n",
    "\n",
    "print(ans_sum)"
   ]
  },
  {
   "cell_type": "code",
   "execution_count": null,
   "metadata": {
    "collapsed": true
   },
   "outputs": [],
   "source": []
  }
 ],
 "metadata": {
  "anaconda-cloud": {},
  "kernelspec": {
   "display_name": "Python [py2]",
   "language": "python",
   "name": "Python [py2]"
  },
  "language_info": {
   "codemirror_mode": {
    "name": "ipython",
    "version": 2
   },
   "file_extension": ".py",
   "mimetype": "text/x-python",
   "name": "python",
   "nbconvert_exporter": "python",
   "pygments_lexer": "ipython2",
   "version": "2.7.12"
  }
 },
 "nbformat": 4,
 "nbformat_minor": 0
}
